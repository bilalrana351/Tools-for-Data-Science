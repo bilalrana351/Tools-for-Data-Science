{
 "cells": [
  {
   "cell_type": "markdown",
   "id": "d76f36a4-9a8f-4d87-864f-de23a9322658",
   "metadata": {
    "tags": []
   },
   "source": [
    "# Data Science Tools and Ecosystem"
   ]
  },
  {
   "cell_type": "markdown",
   "id": "e50c5bd0-c9c2-4d22-93b1-b86a8457251e",
   "metadata": {
    "tags": []
   },
   "source": [
    "###### In this notebook, Data Science Tools and Ecosystem are summarized.\n"
   ]
  },
  {
   "cell_type": "markdown",
   "id": "fff6da1c-766c-4e71-9eba-cbe6e5446fb4",
   "metadata": {},
   "source": [
    "## Objectives\n",
    "- List of Popular Languages for Data Science\n",
    "- List of Popular Libraries for Data Science\n",
    "- List of Open Source Development Tools for Data Science"
   ]
  },
  {
   "cell_type": "markdown",
   "id": "8c3eb11a-99fc-494f-b8a1-d829f1a5ffbd",
   "metadata": {},
   "source": [
    "###### Some of the popular languages that Data Scientists use are:\n",
    "1. Python\n",
    "2. R\n",
    "3. Java\n",
    "4. Scala"
   ]
  },
  {
   "cell_type": "markdown",
   "id": "958bd995-b415-4148-8b42-a850895b0ef1",
   "metadata": {},
   "source": [
    "###### Some of the most common libraries used by Data Scientists include\n",
    "1. Numpy\n",
    "2. Pandas\n",
    "3. Matplotlib\n",
    "4. Tensorflow\n",
    "5. Keras"
   ]
  },
  {
   "cell_type": "markdown",
   "id": "b7d8ffd6-94c4-4f78-b292-3ab2e1d0fd36",
   "metadata": {},
   "source": [
    "###### Three open-source development tools are\n",
    "1. Jupyter Notebooks\n",
    "2. RStudio\n",
    "3. Google Collab"
   ]
  },
  {
   "cell_type": "markdown",
   "id": "b342e7dc-c615-42a7-b1f1-ab9643b0d480",
   "metadata": {},
   "source": [
    "### Below are a few examples of evaluating arithmetic expressions in Python"
   ]
  },
  {
   "cell_type": "code",
   "execution_count": 2,
   "id": "056fdfaa-4e90-48fb-a7c4-066adba5747d",
   "metadata": {
    "tags": []
   },
   "outputs": [
    {
     "data": {
      "text/plain": [
       "17"
      ]
     },
     "execution_count": 2,
     "metadata": {},
     "output_type": "execute_result"
    }
   ],
   "source": [
    "# This a simple arithmetic expression to mutiply then add integers.\n",
    "(3 * 4) + 5"
   ]
  },
  {
   "cell_type": "code",
   "execution_count": 3,
   "id": "a219d402-7213-4976-935b-ee3bd4f02d17",
   "metadata": {
    "tags": []
   },
   "outputs": [
    {
     "data": {
      "text/plain": [
       "3.3333333333333335"
      ]
     },
     "execution_count": 3,
     "metadata": {},
     "output_type": "execute_result"
    }
   ],
   "source": [
    "#This will convert 200 minutes to hours by diving by 60.\n",
    "200 / 60"
   ]
  },
  {
   "cell_type": "markdown",
   "id": "dea8b70b-6784-4c78-b17a-c5767338ec7e",
   "metadata": {},
   "source": [
    "## Author\n",
    "- Bilal Rana"
   ]
  },
  {
   "cell_type": "code",
   "execution_count": null,
   "id": "e6ea4804-45f9-4706-833f-f48cb682b7b1",
   "metadata": {},
   "outputs": [],
   "source": []
  }
 ],
 "metadata": {
  "kernelspec": {
   "display_name": "Python",
   "language": "python",
   "name": "conda-env-python-py"
  },
  "language_info": {
   "codemirror_mode": {
    "name": "ipython",
    "version": 3
   },
   "file_extension": ".py",
   "mimetype": "text/x-python",
   "name": "python",
   "nbconvert_exporter": "python",
   "pygments_lexer": "ipython3",
   "version": "3.7.12"
  }
 },
 "nbformat": 4,
 "nbformat_minor": 5
}
